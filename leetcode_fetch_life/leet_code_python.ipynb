{
 "cells": [
  {
   "cell_type": "markdown",
   "metadata": {},
   "source": [
    "两数之和  \n",
    "Given nums = [2, 7, 11, 15], target = 9,\n",
    "\n",
    "Because nums[0] + nums[1] = 2 + 7 = 9,\n",
    "return [0, 1]."
   ]
  },
  {
   "cell_type": "code",
   "execution_count": null,
   "metadata": {},
   "outputs": [],
   "source": []
  },
  {
   "cell_type": "code",
   "execution_count": 18,
   "metadata": {},
   "outputs": [
    {
     "name": "stdout",
     "output_type": "stream",
     "text": [
      "[0, 1]\n"
     ]
    }
   ],
   "source": [
    "# 解法一, 利用\n",
    "def twoSum(n, t):\n",
    "    D = {}\n",
    "    for i, x1 in enumerate(n):\n",
    "        x2 = t - x1\n",
    "        if x2 not in D:\n",
    "            D[x2] = i\n",
    "        else:\n",
    "            return [D[x2], i]\n",
    "        \n",
    "# 方法二, 建立两个字典交换k, v 位置, 简便了操作        \n",
    "def twoSum_2(nums,target):\n",
    "    # keys(n) is elements, values(i) is index \n",
    "    D = {n:i for i, n in enumerate(nums)}\n",
    "\n",
    "    # i is index, n is elemnts\n",
    "    for i, n in enumerate(nums):\n",
    "        x = target - n # computing\n",
    "\n",
    "        # 都是查询字典中的keys, 为什么不用 x in D.keys()\n",
    "        # x in D.keys() 比 x in D慢，因为D.keys()是一个list，list的查询时间复杂度为\n",
    "        # O(n)，而字典查询的时间复杂度平均情况O(1),最坏情况O(n)\n",
    "        if x in D and D[x] != i:\n",
    "            return [i, D[x]] \n",
    "        \n",
    "nums = [2, 7, 11, 15]\n",
    "target = 9\n",
    "print(twoSum_2(nums, target))"
   ]
  },
  {
   "cell_type": "markdown",
   "metadata": {},
   "source": [
    "add two numbers\n",
    "\n",
    "Input: (2 -> 4 -> 3) + (5 -> 6 -> 4)\n",
    "\n",
    "Output: 7 -> 0 -> 8\n",
    "\n",
    "Explanation: 342 + 465 = 807."
   ]
  },
  {
   "cell_type": "code",
   "execution_count": 23,
   "metadata": {},
   "outputs": [],
   "source": [
    "# 链表节点\n",
    "class ListNode(object):\n",
    "    def __init__(self, x):\n",
    "        self.val = x\n",
    "        self.next = None\n",
    "        \n",
    "\n",
    "def addTwoNumbers( l1, l2, carray=0):\n",
    "    \"\"\"\n",
    "    方法1, 递归法,  \n",
    "    :type l1: ListNode\n",
    "    :type l2: ListNode\n",
    "    :rtype: ListNode\n",
    "    \"\"\"\n",
    "    # 如果l1或者l2任意一个没了, 看一下是否还有carray, 如果有返回1没有返回None \n",
    "    if not(l1 or l2):\n",
    "        return ListNode(1) if carray else None\n",
    "\n",
    "    l1, l2 = l1 or ListNode(0), l2 or ListNode(0)\n",
    "    value = l1.val + l2.val + carray\n",
    "\n",
    "    # value 是否>10 \n",
    "    node = ListNode( value % 10)\n",
    "\n",
    "    # 此处使用了 value > 9 会被转换为 True,  python 中 int(True) == 1, 1 即是进位数\n",
    "    node.next = addTwoNumbers(l1.next, l2.next, carray=int(value > 9))\n",
    "\n",
    "    return node\n"
   ]
  },
  {
   "cell_type": "markdown",
   "metadata": {},
   "source": [
    "No. 273  contains duplicate\n",
    "\n",
    "Input: [1,2,3,1]\n",
    "Output: true\n",
    "\n",
    "Input: [1, 2, 3, 4]\n",
    "Output: false"
   ]
  },
  {
   "cell_type": "code",
   "execution_count": 5,
   "metadata": {},
   "outputs": [
    {
     "name": "stdout",
     "output_type": "stream",
     "text": [
      "{'e', 's', 'w', 'a', 'f', 'v'}\n"
     ]
    },
    {
     "data": {
      "text/plain": [
       "False"
      ]
     },
     "execution_count": 5,
     "metadata": {},
     "output_type": "execute_result"
    }
   ],
   "source": [
    "def con_duplicate(nums):\n",
    "    '''\n",
    "    set 内置函数, 可以将string list , list 中的对象去重\n",
    "    '''\n",
    "    return len(nums) == len(set(nums))\n",
    "\n",
    "print(set('aavvvsffweefwf'))\n",
    "\n",
    "con_duplicate([1, 2, 3, 1])"
   ]
  },
  {
   "cell_type": "markdown",
   "metadata": {},
   "source": [
    "No.9 Palindrome Number\n",
    "\n",
    "121 true<br>\n",
    "-121 false -> -121 != 121-<br>\n",
    "10 false -> 10 != 01"
   ]
  },
  {
   "cell_type": "code",
   "execution_count": 1,
   "metadata": {},
   "outputs": [
    {
     "data": {
      "text/plain": [
       "'121-'"
      ]
     },
     "execution_count": 1,
     "metadata": {},
     "output_type": "execute_result"
    }
   ],
   "source": [
    "def PalindromeNumber(x):\n",
    "    '''\n",
    "    本题采用了, 巧妙使用了join函数,  str-> list -> inverse -> str(inversed)  \n",
    "    '''\n",
    "    return ''.join(list(str(x))[::-1]) == str(x)\n",
    "\n",
    "PalindromeNumber(-121)"
   ]
  },
  {
   "cell_type": "markdown",
   "metadata": {},
   "source": [
    "No. 136 find single number in array<br>\n",
    "\n",
    "input : [3, 2, 2]\n",
    "output: 3"
   ]
  },
  {
   "cell_type": "code",
   "execution_count": 7,
   "metadata": {},
   "outputs": [
    {
     "data": {
      "text/plain": [
       "2"
      ]
     },
     "execution_count": 7,
     "metadata": {},
     "output_type": "execute_result"
    }
   ],
   "source": [
    "# brilliant method\n",
    "def SingleNumber(nums):\n",
    "    '''\n",
    "    how ti work ?\n",
    "    nums = [1, 2, 2, 3, 3]\n",
    "    set_nums = [1, 2, 3]\n",
    "    2* set_nums = [1, 2, 3, 1, 2, 3]\n",
    "    \n",
    "    [1, 1, 2, 2, 3, 3]  vs  [1, 2, 2, 3, 3]\n",
    "    \n",
    "    sum:  10+1  vs  10\n",
    "    sub:  11 - 10 = 1 (Single, Number)  what the brilliant method !\n",
    "    \n",
    "    '''\n",
    "    return 2*(sum(set(nums))) - sum(nums)\n",
    "\n",
    "\n",
    "SingleNumber([2, 3, 3, 4, 4])"
   ]
  },
  {
   "cell_type": "markdown",
   "metadata": {},
   "source": [
    "No.LengthOfLastwords<br>\n",
    "\n",
    "_ _ _ _ hello i am 0 people _ _\n",
    "\n",
    "output: people length -> 6"
   ]
  },
  {
   "cell_type": "code",
   "execution_count": 11,
   "metadata": {},
   "outputs": [
    {
     "data": {
      "text/plain": [
       "4"
      ]
     },
     "execution_count": 11,
     "metadata": {},
     "output_type": "execute_result"
    }
   ],
   "source": [
    "def LengthOfLastword(s):\n",
    "    '''\n",
    "    巧用了 split() 方法 将 字符串 s 转化为 list, 判断 if 只保留了 str 其他 None 值去掉了\n",
    "    '''\n",
    "    if len(s.split()) == 0:\n",
    "        return 0\n",
    "    return len([x for x in s.split() if x][::-1][0])\n",
    "\n",
    "def LengthOfLastword_2(s):\n",
    "    '''\n",
    "    巧用了strip(['char']) 方法, 将字符串前后的char去掉, char 默认是''\n",
    "    也可以设置去掉多个char\n",
    "    '''\n",
    "    return len(s.strip().split(\" \")[-1])\n",
    "\n",
    "\n",
    "LengthOfLastword(\"    sdasd  das  das da sda das d as dadasda  dddd    \")\n",
    "LengthOfLastword_2(\"    sdasd  das  das da sda das d as dadasda  dddd    \")"
   ]
  },
  {
   "cell_type": "markdown",
   "metadata": {},
   "source": [
    "No.PlusOne\n",
    "\n",
    "give a list, +1, return list<br>\n",
    "[1, 2, 3] - +1 -> [1, 2, 4]"
   ]
  },
  {
   "cell_type": "code",
   "execution_count": 17,
   "metadata": {
    "scrolled": true
   },
   "outputs": [],
   "source": [
    "def PlueOne(digits):\n",
    "    '''\n",
    "    map 函数, 将可迭代对象中的每个对元素作为 参数, 传入 需要map的函数中, 返回结果再挨个放回list中\n",
    "    [1, 2, 3] -> map(str, list) -> ['1', '2', '3'] \n",
    "    '''\n",
    "    return  [int(i) for i in str(int(\"\".join(map(str, digits))) + 1)]\n"
   ]
  },
  {
   "cell_type": "markdown",
   "metadata": {},
   "source": [
    "No.67 add Binary\n",
    "\n",
    "input: a = 1010, b =1011<br>\n",
    "output: 10101"
   ]
  },
  {
   "cell_type": "code",
   "execution_count": 23,
   "metadata": {},
   "outputs": [
    {
     "data": {
      "text/plain": [
       "'10101'"
      ]
     },
     "execution_count": 23,
     "metadata": {},
     "output_type": "execute_result"
    }
   ],
   "source": [
    "def addBinary(a, b):\n",
    "    '''\n",
    "    bin 方法, 将 10进制转换为2进制, 不取前两位因为前两位显示进制转换信息 0b\n",
    "    int(x, carray=10) \n",
    "    '''\n",
    "    return bin(int(a, 2) + int(b, 2))[2::]\n",
    "    \n",
    "addBinary('1010', '1011')"
   ]
  },
  {
   "cell_type": "markdown",
   "metadata": {},
   "source": [
    "bounds: one hot<br> \n",
    "1 -> 10000<br>\n",
    "5 -> 00001\n",
    "    \n",
    "    \n",
    "    \n",
    "    "
   ]
  },
  {
   "cell_type": "code",
   "execution_count": 33,
   "metadata": {},
   "outputs": [
    {
     "data": {
      "text/plain": [
       "array([0., 0., 0., 1., 0., 0., 0., 0., 0., 0.])"
      ]
     },
     "execution_count": 33,
     "metadata": {},
     "output_type": "execute_result"
    }
   ],
   "source": [
    "import numpy as np\n",
    "def oneHot(n, n_class):\n",
    "    '''\n",
    "    np.eye 返回一个n x n 的对角矩阵, 对角的值为 1, 所以 \n",
    "    第n 行的 元素, 在该list元素中的 第n 个值就为1, 其他为0\n",
    "    很聪明的方法\n",
    "    '''\n",
    "    return np.eye(n_class)[n]\n",
    "\n",
    "\n",
    "oneHot(3, 10)"
   ]
  },
  {
   "cell_type": "markdown",
   "metadata": {},
   "source": [
    "extra: getContourPoint\n",
    "\n",
    "将 [1, 2, 3, 4, 5, 6] 分成n个一组,例如 n=3, [(1, 2, 3), (4, 5, 6)]\n",
    "当n等于4时 , [(1, 2, 3, 4)]"
   ]
  },
  {
   "cell_type": "code",
   "execution_count": 52,
   "metadata": {},
   "outputs": [
    {
     "data": {
      "text/plain": [
       "[(1, 2, 3), (4, 5, 6)]"
      ]
     },
     "execution_count": 52,
     "metadata": {},
     "output_type": "execute_result"
    }
   ],
   "source": [
    "'''\n",
    "发生了什么?\n",
    "\n",
    "首先, iter()将可迭代对象转化为迭代器, 迭代器一种对象含有有 __next__ 和 __iter__ 方法的对象\n",
    "\n",
    "然后 乘以分组数 例如 分组数为 n == 3\n",
    "[iter_obj, iter_obj, iter_obj]  注意 iter_obj 为相同的对象 !!\n",
    "\n",
    "*arg 意为参数为变长参数, 为什么使用变长参数, 因为在后面迭代时, \n",
    "数组长度不可能完全等于分类数的倍数, 有可能出现迭代器提前迭代空的西现象\n",
    "\n",
    "换句话说就是\n",
    "1,2,3,4,5,6,7,8,9  1,2,3,4,5,6,7,8,9  1,2,3,4,5,6,7,8,9\n",
    "^                    ^                    ^            \n",
    "      ^                    ^                    ^\n",
    "            ^                    ^                    ^\n",
    "\n",
    "可以发现,[iter_obj, iter_obj, iter_obj] 在第一轮迭代中迭代了 (1, 2, 3), 然后zip 函数返回\n",
    "因为 三个迭代器为相同的obj, 所以在第二轮开始迭代时, 迭代器从4开始迭代, 依次为(4, 5, 6)\n",
    "\n",
    "'''\n",
    "\n",
    "\n",
    "\n",
    "\n",
    "def xx():\n",
    "    return [x for x in zip(*[iter([1, 2, 3, 4, 5, 6])]*3)]\n",
    "\n",
    "xx()"
   ]
  }
 ],
 "metadata": {
  "kernelspec": {
   "display_name": "Python 3",
   "language": "python",
   "name": "python3"
  },
  "language_info": {
   "codemirror_mode": {
    "name": "ipython",
    "version": 3
   },
   "file_extension": ".py",
   "mimetype": "text/x-python",
   "name": "python",
   "nbconvert_exporter": "python",
   "pygments_lexer": "ipython3",
   "version": "3.6.2"
  }
 },
 "nbformat": 4,
 "nbformat_minor": 2
}
