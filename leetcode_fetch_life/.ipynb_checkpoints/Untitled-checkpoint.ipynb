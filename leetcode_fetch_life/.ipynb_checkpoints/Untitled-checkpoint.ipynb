{
 "cells": [
  {
   "cell_type": "markdown",
   "metadata": {},
   "source": [
    "两数之和  \n",
    "Given nums = [2, 7, 11, 15], target = 9,\n",
    "\n",
    "Because nums[0] + nums[1] = 2 + 7 = 9,\n",
    "return [0, 1]."
   ]
  },
  {
   "cell_type": "code",
   "execution_count": 18,
   "metadata": {},
   "outputs": [
    {
     "name": "stdout",
     "output_type": "stream",
     "text": [
      "[0, 1]\n"
     ]
    }
   ],
   "source": [
    "# 解法一, 利用\n",
    "def twoSum(n, t):\n",
    "    D = {}\n",
    "    for i, x1 in enumerate(n):\n",
    "        x2 = t - x1\n",
    "        if x2 not in D:\n",
    "            D[x2] = i\n",
    "        else:\n",
    "            return [D[x2], i]\n",
    "        \n",
    "# 方法二, 建立两个字典交换k, v 位置, 简便了操作        \n",
    "def twoSum_2(nums,target):\n",
    "    # keys(n) is elements, values(i) is index \n",
    "    D = {n:i for i, n in enumerate(nums)}\n",
    "\n",
    "    # i is index, n is elemnts\n",
    "    for i, n in enumerate(nums):\n",
    "        x = target - n # computing\n",
    "\n",
    "        # 都是查询字典中的keys, 为什么不用 x in D.keys()\n",
    "        # x in D.keys() 比 x in D慢，因为D.keys()是一个list，list的查询时间复杂度为\n",
    "        # O(n)，而字典查询的时间复杂度平均情况O(1),最坏情况O(n)\n",
    "        if x in D and D[x] != i:\n",
    "            return [i, D[x]] \n",
    "        \n",
    "nums = [2, 7, 11, 15]\n",
    "target = 9\n",
    "print(twoSum_2(nums, target))"
   ]
  },
  {
   "cell_type": "markdown",
   "metadata": {},
   "source": [
    "add two numbers\n",
    "\n",
    "Input: (2 -> 4 -> 3) + (5 -> 6 -> 4)\n",
    "\n",
    "Output: 7 -> 0 -> 8\n",
    "\n",
    "Explanation: 342 + 465 = 807."
   ]
  },
  {
   "cell_type": "code",
   "execution_count": 23,
   "metadata": {},
   "outputs": [],
   "source": [
    "# 链表节点\n",
    "class ListNode(object):\n",
    "    def __init__(self, x):\n",
    "        self.val = x\n",
    "        self.next = None\n",
    "        \n",
    "\n",
    "def addTwoNumbers( l1, l2, carray=0):\n",
    "    \"\"\"\n",
    "    方法1, 递归法,  \n",
    "    :type l1: ListNode\n",
    "    :type l2: ListNode\n",
    "    :rtype: ListNode\n",
    "    \"\"\"\n",
    "    # 如果l1或者l2任意一个没了, 看一下是否还有carray, 如果有返回1没有返回None \n",
    "    if not(l1 or l2):\n",
    "        return ListNode(1) if carray else None\n",
    "\n",
    "    l1, l2 = l1 or ListNode(0), l2 or ListNode(0)\n",
    "    value = l1.val + l2.val + carray\n",
    "\n",
    "    # value 是否>10 \n",
    "    node = ListNode( value % 10)\n",
    "\n",
    "    # 此处使用了 value > 9 会被转换为 True,  python 中 int(True) == 1, 1 即是进位数\n",
    "    node.next = addTwoNumbers(l1.next, l2.next, carray=int(value > 9))\n",
    "\n",
    "    return node\n"
   ]
  }
 ],
 "metadata": {
  "kernelspec": {
   "display_name": "Python 3",
   "language": "python",
   "name": "python3"
  },
  "language_info": {
   "codemirror_mode": {
    "name": "ipython",
    "version": 3
   },
   "file_extension": ".py",
   "mimetype": "text/x-python",
   "name": "python",
   "nbconvert_exporter": "python",
   "pygments_lexer": "ipython3",
   "version": "3.7.0"
  }
 },
 "nbformat": 4,
 "nbformat_minor": 2
}
