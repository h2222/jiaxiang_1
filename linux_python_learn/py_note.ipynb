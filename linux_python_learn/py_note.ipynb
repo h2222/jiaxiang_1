{
 "cells": [
  {
   "cell_type": "markdown",
   "metadata": {},
   "source": [
    "### 模块 \n",
    "######  python 中, 每一个以 py 结尾的文被称为 模块,   可以从模块中引入 所需函数 \n",
    "\n",
    "test_a and test_b\n",
    "\n",
    "1. 模块名即文件名也是标识符, 不能以数字开头\n"
   ]
  },
  {
   "cell_type": "markdown",
   "metadata": {},
   "source": [
    "2. __pycache__ 文件,   python 是一种解释性语言, 即解释一行执行一行,  但是每次执行时都需要将py文件的每一行使用python解释器进行解释并使用编译器进行编译太过于麻烦,   __pycache__  为python的缓存文件,  在第一次执行python代码时将缓储存在  .pyc 文件中, 这些pyc 文件会将之前的写的源代码 直接转化为 字节码 (二进制代码)  增加编译速度,  最后编译器将字节码转换为机器码, 如果你修改了源代码, 在下次运行时会重写创建pyc文件"
   ]
  },
  {
   "cell_type": "markdown",
   "metadata": {},
   "source": [
    "3. #! \\python 加在最前头可以将文件变为可执行文件, 自定义编译器位置, 一般后更 #coding=utf-8 确定编码格式"
   ]
  },
  {
   "cell_type": "markdown",
   "metadata": {},
   "source": [
    "4. 在python 变量和地址是分开保存的, 变量记录了数据的地址, 根据地址找到数据\n",
    "\n",
    "    a = 1\n",
    "    b = a\n",
    "\n",
    "    a (地址) -> [1] 内存(内存地址)\n",
    "\n",
    "    b (地址) _/\n",
    "\n",
    "\n",
    "    当改变b的数据时, b指向数据的地址也随之改变\n",
    "\n",
    "    a (地址1)-> [1]\n",
    "\n",
    "    b (地址2)-> [2]\n"
   ]
  },
  {
   "cell_type": "code",
   "execution_count": 21,
   "metadata": {},
   "outputs": [
    {
     "name": "stdout",
     "output_type": "stream",
     "text": [
      "True\n",
      "False\n"
     ]
    }
   ],
   "source": [
    "a = 1\n",
    "b = a\n",
    "print(id(a) == id(b))\n",
    "\n",
    "b = 2\n",
    "print(id(a) == id(b))"
   ]
  },
  {
   "cell_type": "markdown",
   "metadata": {},
   "source": [
    "5. 可变类型和不可变类型\n",
    "    不可变类型 a = 1,  a = \"hello\", 修改数据会变动内存地址, 被称为不可变类型\n",
    "    可变类型 a = [1, 2, 3]  修改 a 中的元素不改变a的内存地址, 被称为不可变类型"
   ]
  },
  {
   "cell_type": "markdown",
   "metadata": {},
   "source": [
    "6. "
   ]
  }
 ],
 "metadata": {
  "kernelspec": {
   "display_name": "Python 3",
   "language": "python",
   "name": "python3"
  },
  "language_info": {
   "codemirror_mode": {
    "name": "ipython",
    "version": 3
   },
   "file_extension": ".py",
   "mimetype": "text/x-python",
   "name": "python",
   "nbconvert_exporter": "python",
   "pygments_lexer": "ipython3",
   "version": "3.6.2"
  }
 },
 "nbformat": 4,
 "nbformat_minor": 4
}
